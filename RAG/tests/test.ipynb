{
 "cells": [
  {
   "cell_type": "markdown",
   "metadata": {},
   "source": [
    "##### The aim of this notebook is to test the project to verify the LLM return message"
   ]
  },
  {
   "cell_type": "markdown",
   "metadata": {},
   "source": [
    "---"
   ]
  },
  {
   "cell_type": "code",
   "execution_count": 1,
   "metadata": {},
   "outputs": [
    {
     "name": "stderr",
     "output_type": "stream",
     "text": [
      "c:\\Users\\Micro\\Downloads\\BCG_X_CHALLENGE\\desenv\\.pyenv\\Lib\\site-packages\\IPython\\core\\magics\\osm.py:417: UserWarning: This is now an optional IPython functionality, setting dhist requires you to install the `pickleshare` library.\n",
      "  self.shell.db['dhist'] = compress_dhist(dhist)[-100:]\n"
     ]
    },
    {
     "name": "stdout",
     "output_type": "stream",
     "text": [
      "c:\\Users\\Micro\\Downloads\\BCG_X_CHALLENGE\\desenv\n"
     ]
    }
   ],
   "source": [
    "%cd ..\n",
    "from functions.get_message import process_input_with_retrieval"
   ]
  },
  {
   "cell_type": "code",
   "execution_count": 2,
   "metadata": {},
   "outputs": [],
   "source": [
    "# User query\n",
    "user_query = 'Quais fatores devo levar em consideração na hora de desenvolver um plano de adaptação climática para uma cidade de porte médio no Brasil?'\n",
    "\n",
    "# Model return\n",
    "final_response = process_input_with_retrieval(user_query)"
   ]
  },
  {
   "cell_type": "code",
   "execution_count": 3,
   "metadata": {},
   "outputs": [
    {
     "name": "stdout",
     "output_type": "stream",
     "text": [
      "Ao desenvolver um plano de adaptação climática para uma cidade de porte médio no Brasil, é importante considerar os seguintes fatores:\n",
      "\n",
      "1. **Vulnerabilidade Socioeconômica**: É fundamental identificar as áreas e populações mais vulneráveis aos impactos das mudanças climáticas. Isso inclui considerar a condição de saneamento, infraestrutura e habitação. O plano deve priorizar ações que reduzam essas vulnerabilidades, promovendo a inclusão social e o desenvolvimento sustentável.\n",
      "\n",
      "2. **Infraestrutura Urbana**: Avaliar a infraestrutura existente, especialmente em relação ao saneamento básico e drenagem. Cidades de porte médio frequentemente enfrentam desafios relacionados à impermeabilização do solo e à gestão de águas pluviais, que podem levar a inundações e outros problemas. A implementação de sistemas de drenagem sustentável e a recuperação de áreas verdes são exemplos de ações que podem ser consideradas.\n",
      "\n",
      "3. **Planejamento Urbano**: A ocupação do solo deve ser planejada de forma a evitar a construção em áreas de risco, como encostas e regiões propensas a alagamentos. O uso de instrumentos de planejamento urbano, como o zoneamento, pode ajudar a direcionar o crescimento da cidade de maneira mais resiliente.\n",
      "\n",
      "4. **Participação da Comunidade**: Envolver a população local no processo de planejamento é crucial. A participação da comunidade pode garantir que as necessidades e preocupações locais sejam consideradas, além de promover um maior engajamento nas ações de adaptação.\n",
      "\n",
      "5. **Integração com Políticas Públicas**: O plano de adaptação deve estar alinhado com outras políticas públicas municipais, como saúde, educação e desenvolvimento econômico. Isso ajuda a garantir que as ações de adaptação sejam sustentáveis e integradas em um contexto mais amplo.\n",
      "\n",
      "6. **Educação e Conscientização**: Promover campanhas de conscientização sobre os impactos das mudanças climáticas e a importância da adaptação pode ajudar a mobilizar a comunidade e aumentar a resiliência local.\n",
      "\n",
      "7. **Monitoramento e Avaliação**: Estabelecer mecanismos de monitoramento e avaliação para acompanhar a eficácia das ações implementadas e fazer ajustes conforme necessário.\n",
      "\n",
      "Esses fatores são fundamentais para garantir que o plano de adaptação climática seja eficaz e atenda às necessidades específicas da cidade, contribuindo para um desenvolvimento urbano mais resiliente. Cidades como Curitiba e São Paulo têm implementado estratégias de adaptação que consideram muitos desses aspectos, mostrando a importância de um planejamento integrado e participativo.\n"
     ]
    }
   ],
   "source": [
    "print(final_response)"
   ]
  },
  {
   "cell_type": "markdown",
   "metadata": {},
   "source": [
    "---"
   ]
  },
  {
   "cell_type": "code",
   "execution_count": 4,
   "metadata": {},
   "outputs": [],
   "source": [
    "# User query\n",
    "user_query = 'Como desenvolvo um plano de adaptação climática para a cidade de Campinas?'\n",
    "\n",
    "# Model return\n",
    "final_response = process_input_with_retrieval(user_query)"
   ]
  },
  {
   "cell_type": "code",
   "execution_count": 5,
   "metadata": {},
   "outputs": [
    {
     "name": "stdout",
     "output_type": "stream",
     "text": [
      "Para desenvolver um plano de adaptação climática para a cidade de Campinas, é importante seguir uma abordagem estruturada que considere as particularidades da região e as diretrizes já estabelecidas. Abaixo estão algumas ações práticas, organizadas por ordem de prioridade em termos de facilidade de implementação e impacto:\n",
      "\n",
      "1. **Criação de um Comitê Intermunicipal de Adaptação Climática**:\n",
      "   - **Justificativa**: A formação de um comitê que inclua representantes de diferentes setores (governo, sociedade civil, academia) pode facilitar a coordenação de ações e a troca de informações. Isso foi observado no Consórcio Intermunicipal Grande ABC, que desenvolveu um plano de ação para enfrentamento das mudanças climáticas.\n",
      "   - **Exemplo**: O Consórcio Grande ABC envolveu municípios como Santo André e São Bernardo do Campo, permitindo um planejamento mais integrado.\n",
      "\n",
      "2. **Inventário de Emissões de Gases de Efeito Estufa (GEEs)**:\n",
      "   - **Justificativa**: Realizar um inventário permitirá identificar as principais fontes de emissões na cidade, ajudando a priorizar ações de mitigação e adaptação. Essa prática é recomendada no Plano de Ação do Grande ABC.\n",
      "   - **Exemplo**: Muitas cidades, como São Paulo, já implementaram inventários que serviram de base para suas políticas climáticas.\n",
      "\n",
      "3. **Desenvolvimento de um Programa de Conservação e Recuperação de Áreas Verdes**:\n",
      "   - **Justificativa**: A conservação de áreas verdes e a recomposição de matas ciliares são essenciais para a resiliência hídrica e para a mitigação de impactos climáticos, como enchentes e secas. O Programa Cinturão Verde Mananciais Metropolitanos da Sabesp é um exemplo de ação que pode ser adaptada.\n",
      "   - **Exemplo**: Campinas pode se inspirar em programas de outras cidades que focam na recuperação de áreas verdes urbanas.\n",
      "\n",
      "4. **Implementação de Medidas de Infraestrutura Verde**:\n",
      "   - **Justificativa**: Medidas como a criação de jardins de chuva, telhados verdes e pavimentos permeáveis ajudam a gerenciar a água da chuva e a reduzir a temperatura urbana. Essas ações são complementares ao planejamento de drenagem urbana.\n",
      "   - **Exemplo**: Cidades como Curitiba têm implementado infraestrutura verde com sucesso para melhorar a resiliência urbana.\n",
      "\n",
      "5. **Educação e Sensibilização da População**:\n",
      "   - **Justificativa**: Promover campanhas de conscientização sobre as mudanças climáticas e a importância da adaptação pode aumentar o engajamento da comunidade e a eficácia das políticas implementadas.\n",
      "   - **Exemplo**: Muitas cidades têm realizado programas educativos nas escolas e na comunidade para sensibilizar sobre práticas sustentáveis.\n",
      "\n",
      "6. **Monitoramento e Avaliação Contínua**:\n",
      "   - **Justificativa**: Estabelecer um sistema de monitoramento e avaliação das ações implementadas permitirá ajustes e melhorias contínuas no plano de adaptação.\n",
      "   - **Exemplo**: Cidades que utilizam sistemas de monitoramento, como Barcelona, conseguem adaptar suas políticas com base em dados atualizados.\n",
      "\n",
      "Essas ações devem ser integradas a um plano mais amplo que considere as particularidades locais e o contexto regional. A colaboração com outros municípios e a adesão a iniciativas estaduais e nacionais, como o Plano Nacional de Adaptação à Mudança do Clima, são fundamentais para o sucesso do plano.\n"
     ]
    }
   ],
   "source": [
    "print(final_response)"
   ]
  },
  {
   "cell_type": "markdown",
   "metadata": {},
   "source": [
    "---"
   ]
  },
  {
   "cell_type": "code",
   "execution_count": 6,
   "metadata": {},
   "outputs": [],
   "source": [
    "# User query\n",
    "user_query = 'Como desenvolvo um plano de adaptação climática para a cidade de Boa Vista (RR)?'\n",
    "\n",
    "# Model return\n",
    "final_response = process_input_with_retrieval(user_query)"
   ]
  },
  {
   "cell_type": "code",
   "execution_count": 7,
   "metadata": {},
   "outputs": [
    {
     "name": "stdout",
     "output_type": "stream",
     "text": [
      "Para desenvolver um plano de adaptação climática para Boa Vista (RR), é importante priorizar ações que sejam viáveis de implementar e que tenham um impacto significativo na resiliência da cidade frente às mudanças climáticas. Abaixo estão algumas sugestões de ações práticas, organizadas por ordem de prioridade:\n",
      "\n",
      "1. **Melhoria do Saneamento Básico**:\n",
      "   - **Justificativa**: O saneamento básico é fundamental para a saúde pública e para a redução da vulnerabilidade socioeconômica, especialmente em áreas propensas a alagamentos e doenças transmitidas pela água.\n",
      "   - **Exemplo**: Cidades como Recife implementaram projetos de saneamento que incluíram a construção de sistemas de drenagem e tratamento de esgoto, reduzindo a incidência de doenças e melhorando a qualidade de vida da população.\n",
      "\n",
      "2. **Implantação de Parques Lineares e Áreas Verdes**:\n",
      "   - **Justificativa**: A criação de parques lineares pode ajudar na gestão das águas pluviais, reduzindo o risco de inundações e melhorando a qualidade do ar. Além disso, áreas verdes proporcionam espaços de lazer e contribuem para a biodiversidade urbana.\n",
      "   - **Exemplo**: São Paulo tem investido na criação de parques lineares ao longo de rios, o que ajudou a minimizar os impactos de enchentes e a melhorar a qualidade de vida dos moradores.\n",
      "\n",
      "3. **Desenvolvimento de Pesquisas sobre Culturas Agrícolas Resilientes**:\n",
      "   - **Justificativa**: A agricultura é um setor vulnerável às mudanças climáticas, e a pesquisa sobre espécies agrícolas resistentes a períodos de seca e a outras condições climáticas extremas pode aumentar a segurança alimentar da região.\n",
      "   - **Exemplo**: O projeto de pesquisa em Minas Gerais focou em variedades de milho e feijão que resistem à seca, ajudando os agricultores a se adaptarem às mudanças climáticas.\n",
      "\n",
      "4. **Recuperação e Proteção de Ecossistemas Naturais**:\n",
      "   - **Justificativa**: A proteção de manguezais, restingas e recifes ajuda a minimizar os impactos de tempestades e a erosão costeira, além de preservar a biodiversidade local.\n",
      "   - **Exemplo**: O projeto de recuperação de manguezais em Santos (SP) demonstrou a eficácia de restaurar ecossistemas para proteger a costa e melhorar a resiliência das comunidades locais.\n",
      "\n",
      "5. **Fortalecimento da Rede de Segurança Social**:\n",
      "   - **Justificativa**: Aumentar a cobertura de segurança social ajuda a proteger as populações mais vulneráveis, garantindo que elas tenham acesso a recursos e suporte em momentos de crise.\n",
      "   - **Exemplo**: Em várias cidades, programas de transferência de renda foram implementados para ajudar famílias em situação de vulnerabilidade, especialmente durante eventos climáticos extremos.\n",
      "\n",
      "Essas ações, quando implementadas de forma integrada, podem ajudar Boa Vista a se adaptar às mudanças climáticas, minimizando riscos e promovendo um desenvolvimento urbano sustentável. É importante envolver a comunidade local e os stakeholders no processo de planejamento e implementação para garantir que as soluções sejam adequadas às necessidades da população.\n"
     ]
    }
   ],
   "source": [
    "print(final_response)"
   ]
  },
  {
   "cell_type": "markdown",
   "metadata": {},
   "source": [
    "---"
   ]
  },
  {
   "cell_type": "code",
   "execution_count": 8,
   "metadata": {},
   "outputs": [],
   "source": [
    "# User query\n",
    "user_query = 'Qual é a estrategia para reduzir a ocorrência de incêndios no estado de Mato Grosso?'\n",
    "\n",
    "# Model return\n",
    "final_response = process_input_with_retrieval(user_query)"
   ]
  },
  {
   "cell_type": "code",
   "execution_count": 9,
   "metadata": {},
   "outputs": [
    {
     "name": "stdout",
     "output_type": "stream",
     "text": [
      "Para reduzir a ocorrência de incêndios no estado de Mato Grosso, é importante implementar uma série de ações práticas e estratégicas. Abaixo, estão listadas as ações por ordem de prioridade, considerando a facilidade de implementação e o impacto esperado:\n",
      "\n",
      "1. **Fortalecimento da Fiscalização e Combate ao Desmatamento Ilegal**:\n",
      "   - **Justificativa**: A maioria dos incêndios florestais está relacionada ao desmatamento ilegal. O fortalecimento da fiscalização pode prevenir que áreas sejam desmatadas e posteriormente incendiadas.\n",
      "   - **Exemplo**: O Comitê Estratégico de Combate ao Desmatamento Ilegal (CEDIF-MT) foi criado em Mato Grosso, com a participação de diversos órgãos, e tem mostrado resultados na apreensão de equipamentos e na responsabilização de infratores.\n",
      "\n",
      "2. **Implementação de Programas de Educação Ambiental**:\n",
      "   - **Justificativa**: A conscientização da população sobre os riscos e as consequências dos incêndios é fundamental. Programas educativos podem ajudar a mudar comportamentos e práticas que levam a incêndios.\n",
      "   - **Exemplo**: Cidades como São Paulo têm realizado campanhas de conscientização sobre a importância da preservação ambiental e o combate ao uso do fogo.\n",
      "\n",
      "3. **Criação de Corpos de Bombeiros Voluntários e Treinamento de Comunidades**:\n",
      "   - **Justificativa**: Comunidades locais podem ser treinadas para agir rapidamente em caso de incêndios, minimizando os danos. A formação de brigadas voluntárias pode ser uma solução eficaz.\n",
      "   - **Exemplo**: Em várias regiões do Brasil, como no Pantanal, foram formadas brigadas de incêndio compostas por moradores locais, que atuam em parceria com os bombeiros.\n",
      "\n",
      "4. **Desenvolvimento de Projetos de Reflorestamento e Recuperação de Áreas Degradadas**:\n",
      "   - **Justificativa**: A recuperação de áreas degradadas ajuda a restaurar o equilíbrio ecológico e a reduzir a vulnerabilidade a incêndios. Projetos de reflorestamento também podem oferecer alternativas econômicas para a população local.\n",
      "   - **Exemplo**: O projeto \"Reflorestar\" em algumas regiões de Minas Gerais tem promovido o reflorestamento com espécies nativas, contribuindo para a recuperação ambiental.\n",
      "\n",
      "5. **Incentivo ao Ecoturismo e Práticas Sustentáveis**:\n",
      "   - **Justificativa**: Promover o ecoturismo pode gerar renda para as comunidades locais e reduzir a pressão sobre os recursos naturais, além de sensibilizar visitantes sobre a importância da conservação.\n",
      "   - **Exemplo**: O estado do Acre tem investido em ecoturismo como uma alternativa econômica, ajudando a preservar a floresta e a biodiversidade local.\n",
      "\n",
      "6. **Utilização de Tecnologias de Monitoramento e Prevenção**:\n",
      "   - **Justificativa**: A implementação de tecnologias de monitoramento, como satélites e drones, pode ajudar a identificar focos de calor e áreas de risco, permitindo uma resposta rápida.\n",
      "   - **Exemplo**: O projeto \"SatAlertas\" em Mato Grosso utiliza tecnologia de georreferenciamento para monitorar e agir em áreas de risco de incêndio.\n",
      "\n",
      "Essas ações, se implementadas de forma integrada e com a colaboração de diferentes setores da sociedade, podem contribuir significativamente para a redução da ocorrência de incêndios no estado de Mato Grosso.\n"
     ]
    }
   ],
   "source": [
    "print(final_response)"
   ]
  },
  {
   "cell_type": "code",
   "execution_count": null,
   "metadata": {},
   "outputs": [],
   "source": []
  },
  {
   "cell_type": "code",
   "execution_count": null,
   "metadata": {},
   "outputs": [],
   "source": []
  },
  {
   "cell_type": "code",
   "execution_count": null,
   "metadata": {},
   "outputs": [],
   "source": []
  },
  {
   "cell_type": "code",
   "execution_count": null,
   "metadata": {},
   "outputs": [],
   "source": []
  }
 ],
 "metadata": {
  "kernelspec": {
   "display_name": ".pyenv",
   "language": "python",
   "name": "python3"
  },
  "language_info": {
   "codemirror_mode": {
    "name": "ipython",
    "version": 3
   },
   "file_extension": ".py",
   "mimetype": "text/x-python",
   "name": "python",
   "nbconvert_exporter": "python",
   "pygments_lexer": "ipython3",
   "version": "3.11.5"
  }
 },
 "nbformat": 4,
 "nbformat_minor": 2
}
