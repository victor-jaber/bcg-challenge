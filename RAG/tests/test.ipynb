{
 "cells": [
  {
   "cell_type": "markdown",
   "metadata": {},
   "source": [
    "##### The aim of this notebook is to test the project to verify the LLM return message"
   ]
  },
  {
   "cell_type": "markdown",
   "metadata": {},
   "source": [
    "---"
   ]
  },
  {
   "cell_type": "code",
   "execution_count": 1,
   "metadata": {},
   "outputs": [
    {
     "name": "stderr",
     "output_type": "stream",
     "text": [
      "c:\\Users\\Micro\\Downloads\\BCG_X_CHALLENGE\\desenv\\.pyenv\\Lib\\site-packages\\IPython\\core\\magics\\osm.py:417: UserWarning: This is now an optional IPython functionality, setting dhist requires you to install the `pickleshare` library.\n",
      "  self.shell.db['dhist'] = compress_dhist(dhist)[-100:]\n"
     ]
    },
    {
     "name": "stdout",
     "output_type": "stream",
     "text": [
      "c:\\Users\\Micro\\Downloads\\BCG_X_CHALLENGE\\desenv\n"
     ]
    }
   ],
   "source": [
    "%cd ..\n",
    "from configparser import ConfigParser\n",
    "from functions.get_message import process_input_with_retrieval\n",
    "from functions.utils import get_dir_config, log"
   ]
  },
  {
   "cell_type": "code",
   "execution_count": 2,
   "metadata": {},
   "outputs": [
    {
     "name": "stderr",
     "output_type": "stream",
     "text": [
      "2024-10-20 10:30:34,394 - INFO - Configured the log function. Log file in c:/Users/Micro/Downloads/BCG_X_CHALLENGE/desenv/log/20241020_103034_log.txt\n"
     ]
    }
   ],
   "source": [
    "# Read the config.ini\n",
    "ini_config = get_dir_config()\n",
    "config = ConfigParser()\n",
    "config.read(ini_config, encoding=\"utf8\")\n",
    "\n",
    "# Object for execution log\n",
    "logger = log(config)"
   ]
  },
  {
   "cell_type": "code",
   "execution_count": 3,
   "metadata": {},
   "outputs": [
    {
     "name": "stderr",
     "output_type": "stream",
     "text": [
      "2024-10-20 10:30:41,470 - INFO - Processing and cleaning data from the user query completed successfully\n",
      "2024-10-20 10:30:44,556 - INFO - Transformed the user query into a float vector\n",
      "2024-10-20 10:30:45,461 - INFO - Retrieved similar documents based on user input\n",
      "2024-10-20 10:30:53,811 - INFO - Final response generated successfully\n"
     ]
    }
   ],
   "source": [
    "# User query\n",
    "user_query = 'Quais fatores devo levar em consideração na hora de desenvolver um plano de adaptação climática para uma cidade de porte médio no Brasil?'\n",
    "\n",
    "# Model return\n",
    "final_response = process_input_with_retrieval(user_query, logger)"
   ]
  },
  {
   "cell_type": "code",
   "execution_count": 4,
   "metadata": {},
   "outputs": [
    {
     "name": "stdout",
     "output_type": "stream",
     "text": [
      "Ao desenvolver um plano de adaptação climática para uma cidade de porte médio no Brasil, é importante considerar os seguintes fatores:\n",
      "\n",
      "1. **Vulnerabilidade Socioeconômica**: Avaliar a vulnerabilidade da população local, especialmente os grupos mais afetados por mudanças climáticas, como os que vivem em áreas de risco, sem acesso a infraestrutura básica e serviços públicos. A redução das desigualdades sociais deve ser uma prioridade.\n",
      "\n",
      "2. **Infraestrutura Urbana**: Analisar a condição da infraestrutura existente, como saneamento básico, drenagem e habitação. Muitas cidades enfrentam problemas de impermeabilização do solo, que aumentam o risco de enchentes e inundações. Melhorias na infraestrutura podem reduzir esses riscos.\n",
      "\n",
      "3. **Planejamento Urbano**: Considerar o uso do solo e o planejamento urbano sustentável, evitando a ocupação de áreas de risco e promovendo a criação de áreas verdes que ajudem a mitigar os efeitos do calor e das chuvas intensas.\n",
      "\n",
      "4. **Eventos Climáticos Extremos**: Identificar os eventos climáticos que mais afetam a região, como secas, enchentes ou tempestades, e desenvolver estratégias específicas para mitigá-los.\n",
      "\n",
      "5. **Participação da Comunidade**: Envolver a população local no processo de planejamento, garantindo que suas necessidades e conhecimentos sejam considerados. Isso pode aumentar a aceitação e a eficácia das medidas propostas.\n",
      "\n",
      "6. **Integração de Políticas**: Assegurar que o plano de adaptação climática esteja alinhado com outras políticas públicas, como saúde, educação e desenvolvimento econômico, promovendo uma abordagem integrada.\n",
      "\n",
      "7. **Financiamento e Recursos**: Identificar fontes de financiamento, tanto públicas quanto privadas, para implementar as ações de adaptação. A priorização de investimentos em infraestrutura e serviços pode ter um impacto significativo na resiliência da cidade.\n",
      "\n",
      "Exemplo: A cidade de Curitiba implementou um sistema de drenagem urbana que integra áreas verdes e espaços públicos, ajudando a reduzir as enchentes e melhorar a qualidade de vida dos cidadãos. Essa abordagem pode servir como referência para outras cidades de porte médio no Brasil.\n"
     ]
    }
   ],
   "source": [
    "print(final_response)"
   ]
  },
  {
   "cell_type": "markdown",
   "metadata": {},
   "source": [
    "---"
   ]
  },
  {
   "cell_type": "code",
   "execution_count": 5,
   "metadata": {},
   "outputs": [
    {
     "name": "stderr",
     "output_type": "stream",
     "text": [
      "2024-10-20 10:31:03,044 - INFO - Processing and cleaning data from the user query completed successfully\n",
      "2024-10-20 10:31:05,319 - INFO - Transformed the user query into a float vector\n",
      "2024-10-20 10:31:06,158 - INFO - Retrieved similar documents based on user input\n",
      "2024-10-20 10:31:15,363 - INFO - Final response generated successfully\n"
     ]
    }
   ],
   "source": [
    "# User query\n",
    "user_query = 'Como desenvolvo um plano de adaptação climática para a cidade de Campinas?'\n",
    "\n",
    "# Model return\n",
    "final_response = process_input_with_retrieval(user_query, logger)"
   ]
  },
  {
   "cell_type": "code",
   "execution_count": 6,
   "metadata": {},
   "outputs": [
    {
     "name": "stdout",
     "output_type": "stream",
     "text": [
      "Para desenvolver um plano de adaptação climática para a cidade de Campinas, você pode seguir uma série de ações práticas, priorizando aquelas que são mais fáceis de implementar e que têm um impacto significativo. Aqui estão algumas sugestões:\n",
      "\n",
      "1. **Criação de um Comitê de Gestão Climática**:\n",
      "   - **Justificativa**: A formação de um comitê que envolva representantes de diferentes setores (governo, sociedade civil, academia) pode facilitar a coordenação das ações de adaptação e mitigação.\n",
      "   - **Exemplo**: O Consórcio Intermunicipal Grande ABC é um exemplo de estrutura organizacional que facilita o planejamento climático regional.\n",
      "\n",
      "2. **Desenvolvimento de um Inventário de Emissões de GEE**:\n",
      "   - **Justificativa**: Conhecer as fontes de emissões de Gases de Efeito Estufa (GEE) na cidade é fundamental para direcionar as ações de mitigação e adaptação.\n",
      "   - **Exemplo**: O Plano de Ação de Enfrentamento às Mudanças Climáticas do Grande ABC, que inclui um inventário de emissões, pode servir de modelo.\n",
      "\n",
      "3. **Implementação de Programas de Conservação e Recuperação de Áreas Verdes**:\n",
      "   - **Justificativa**: A conservação e recuperação de áreas verdes ajudam a melhorar a resiliência hídrica e a qualidade do ar, além de fornecer serviços ecossistêmicos.\n",
      "   - **Exemplo**: O Programa Reconecta RMC, que envolve 20 municípios da Região Metropolitana de Campinas, é um bom exemplo de como a integração de ações de conservação pode ser realizada.\n",
      "\n",
      "4. **Promoção de Educação e Conscientização sobre Mudanças Climáticas**:\n",
      "   - **Justificativa**: A educação da população sobre os impactos das mudanças climáticas e as ações que podem ser tomadas para mitigá-los é essencial para o sucesso do plano.\n",
      "   - **Exemplo**: Campanhas educativas em escolas e comunidades sobre a importância da conservação de recursos hídricos e da redução de emissões.\n",
      "\n",
      "5. **Integração de Políticas de Mobilidade Sustentável**:\n",
      "   - **Justificativa**: Promover alternativas de transporte sustentável, como ciclovias e transporte público eficiente, pode reduzir as emissões de GEE e melhorar a qualidade do ar.\n",
      "   - **Exemplo**: Cidades como Curitiba têm implementado sistemas de transporte público integrados e ciclovias que incentivam a mobilidade sustentável.\n",
      "\n",
      "6. **Monitoramento e Avaliação Contínua**:\n",
      "   - **Justificativa**: É importante monitorar as ações implementadas e avaliar seu impacto para ajustar as estratégias conforme necessário.\n",
      "   - **Exemplo**: A cidade de São Paulo possui um sistema de monitoramento de suas políticas de mudança climática, permitindo ajustes em tempo real.\n",
      "\n",
      "Essas ações, se implementadas de forma integrada e colaborativa, podem contribuir significativamente para a resiliência climática de Campinas, ajudando a cidade a se adaptar às mudanças climáticas e a mitigar seus efeitos.\n"
     ]
    }
   ],
   "source": [
    "print(final_response)"
   ]
  },
  {
   "cell_type": "markdown",
   "metadata": {},
   "source": [
    "---"
   ]
  },
  {
   "cell_type": "code",
   "execution_count": 7,
   "metadata": {},
   "outputs": [
    {
     "name": "stderr",
     "output_type": "stream",
     "text": [
      "2024-10-20 10:31:23,059 - INFO - Processing and cleaning data from the user query completed successfully\n",
      "2024-10-20 10:31:25,699 - INFO - Transformed the user query into a float vector\n",
      "2024-10-20 10:31:26,434 - INFO - Retrieved similar documents based on user input\n",
      "2024-10-20 10:31:35,534 - INFO - Final response generated successfully\n"
     ]
    }
   ],
   "source": [
    "# User query\n",
    "user_query = 'Como desenvolvo um plano de adaptação climática para a cidade de Boa Vista (RR)?'\n",
    "\n",
    "# Model return\n",
    "final_response = process_input_with_retrieval(user_query, logger)"
   ]
  },
  {
   "cell_type": "code",
   "execution_count": 8,
   "metadata": {},
   "outputs": [
    {
     "name": "stdout",
     "output_type": "stream",
     "text": [
      "Para desenvolver um plano de adaptação climática para a cidade de Boa Vista (RR), é importante priorizar ações que sejam viáveis e que tenham um impacto significativo na resiliência da cidade frente às mudanças climáticas. Aqui estão algumas ações sugeridas, organizadas por ordem de prioridade:\n",
      "\n",
      "1. **Implantação de Saneamento Básico**:\n",
      "   - **Justificativa**: O saneamento básico é fundamental para reduzir a vulnerabilidade socioeconômica e melhorar a saúde pública. Em Boa Vista, onde a infraestrutura pode ser precária, melhorar o saneamento pode diminuir a transmissão de doenças e poluição do lençol freático.\n",
      "   - **Exemplo**: Cidades como Recife têm implementado programas de saneamento que resultaram na redução de doenças relacionadas à água.\n",
      "\n",
      "2. **Desenvolvimento de Parques Lineares**:\n",
      "   - **Justificativa**: A criação de parques lineares pode ajudar a mitigar o impacto de inundações e melhorar a qualidade de vida urbana. Esses espaços verdes também contribuem para a biodiversidade e o bem-estar da população.\n",
      "   - **Exemplo**: São Paulo tem investido em parques lineares ao longo de rios, o que ajudou a controlar enchentes e a criar áreas de lazer.\n",
      "\n",
      "3. **Recuperação e Proteção de Ecossistemas Naturais**:\n",
      "   - **Justificativa**: A proteção de áreas como manguezais e restingas é essencial para minimizar os impactos de tempestades e erosão costeira. Esses ecossistemas atuam como barreiras naturais e ajudam a regular o clima local.\n",
      "   - **Exemplo**: O projeto de recuperação de manguezais em Salvador tem demonstrado eficácia em proteger a costa e aumentar a resiliência da cidade a eventos climáticos extremos.\n",
      "\n",
      "4. **Desenvolvimento de Pesquisas sobre Espécies Agrícolas Resistentes**:\n",
      "   - **Justificativa**: Investir em pesquisas para desenvolver culturas agrícolas que sejam resistentes a períodos de seca pode garantir a segurança alimentar da população e promover a agricultura sustentável.\n",
      "   - **Exemplo**: Em várias regiões do Brasil, iniciativas de pesquisa têm focado em variedades de plantas que se adaptam melhor a condições climáticas adversas.\n",
      "\n",
      "5. **Criação de Redes de Segurança Social**:\n",
      "   - **Justificativa**: Aumentar a cobertura de segurança social pode ajudar a proteger as populações mais vulneráveis durante crises climáticas, garantindo que tenham acesso a recursos básicos.\n",
      "   - **Exemplo**: Programas de transferência de renda em cidades como Belo Horizonte têm mostrado que, em tempos de crise, a segurança social pode ajudar a mitigar os impactos econômicos.\n",
      "\n",
      "Essas ações devem ser discutidas com a comunidade local e stakeholders para garantir que o plano de adaptação climática seja adequado às necessidades específicas de Boa Vista. A implementação de um plano de adaptação requer um compromisso contínuo e colaboração entre diferentes setores da sociedade.\n"
     ]
    }
   ],
   "source": [
    "print(final_response)"
   ]
  },
  {
   "cell_type": "markdown",
   "metadata": {},
   "source": [
    "---"
   ]
  },
  {
   "cell_type": "code",
   "execution_count": 9,
   "metadata": {},
   "outputs": [
    {
     "name": "stderr",
     "output_type": "stream",
     "text": [
      "2024-10-20 10:31:40,634 - INFO - Processing and cleaning data from the user query completed successfully\n",
      "2024-10-20 10:31:43,292 - INFO - Transformed the user query into a float vector\n",
      "2024-10-20 10:31:44,091 - INFO - Retrieved similar documents based on user input\n",
      "2024-10-20 10:31:53,143 - INFO - Final response generated successfully\n"
     ]
    }
   ],
   "source": [
    "# User query\n",
    "user_query = 'Qual é a estrategia para reduzir a ocorrência de incêndios no estado de Mato Grosso?'\n",
    "\n",
    "# Model return\n",
    "final_response = process_input_with_retrieval(user_query, logger)"
   ]
  },
  {
   "cell_type": "code",
   "execution_count": 10,
   "metadata": {},
   "outputs": [
    {
     "name": "stdout",
     "output_type": "stream",
     "text": [
      "Para reduzir a ocorrência de incêndios no estado de Mato Grosso, é fundamental implementar uma série de ações práticas e estratégicas, priorizando aquelas que são mais fáceis de implementar e que têm um maior impacto. Aqui estão algumas sugestões:\n",
      "\n",
      "1. **Fortalecimento da fiscalização ambiental**: Aumentar a presença de agentes de fiscalização nas áreas mais vulneráveis ao desmatamento e incêndios. Isso pode incluir a criação de brigadas de combate a incêndios e a utilização de tecnologia, como drones, para monitorar áreas de risco. Um exemplo de sucesso é o projeto \"Olhos da Mata\", que utiliza georreferenciamento para monitorar áreas de desmatamento e incêndios.\n",
      "\n",
      "2. **Educação e conscientização da população**: Promover campanhas educativas para sensibilizar a população sobre os riscos dos incêndios florestais e a importância da preservação ambiental. Isso pode incluir workshops, palestras e materiais informativos. Cidades como São Paulo têm realizado campanhas de conscientização sobre o uso do fogo e suas consequências.\n",
      "\n",
      "3. **Implementação de sistemas de alerta precoce**: Criar um sistema de monitoramento e alerta que possa identificar focos de calor e incêndios em tempo real. O projeto \"SatAlertas\", que monitora a floresta amazônica, é um exemplo de como a tecnologia pode ser utilizada para detectar incêndios rapidamente.\n",
      "\n",
      "4. **Promoção de práticas de manejo sustentável**: Incentivar práticas agrícolas que reduzam a necessidade de queimadas, como a agroecologia e a rotação de culturas. Isso pode ser feito através de incentivos financeiros e programas de capacitação para agricultores.\n",
      "\n",
      "5. **Reflorestamento e recuperação de áreas degradadas**: Implementar programas de reflorestamento nas áreas afetadas por incêndios e desmatamento. Isso não apenas ajuda a restaurar o ecossistema, mas também pode reduzir a incidência de incêndios no futuro. O estado de Minas Gerais tem desenvolvido projetos de reflorestamento com a participação da comunidade.\n",
      "\n",
      "6. **Criação de um comitê de gestão de incêndios**: Formar um comitê que reúna representantes do governo, ONGs, comunidades locais e especialistas para planejar e coordenar ações de prevenção e combate a incêndios. O Comitê Estratégico de Combate ao Desmatamento Ilegal e Incêndios Florestais (CEDIF-MT) é um exemplo de iniciativa que pode ser ampliada e fortalecida.\n",
      "\n",
      "Essas ações, quando implementadas de forma integrada e coordenada, podem contribuir significativamente para a redução da ocorrência de incêndios no estado de Mato Grosso, promovendo um ambiente mais seguro e sustentável.\n"
     ]
    }
   ],
   "source": [
    "print(final_response)"
   ]
  },
  {
   "cell_type": "code",
   "execution_count": null,
   "metadata": {},
   "outputs": [],
   "source": []
  },
  {
   "cell_type": "code",
   "execution_count": null,
   "metadata": {},
   "outputs": [],
   "source": []
  },
  {
   "cell_type": "code",
   "execution_count": null,
   "metadata": {},
   "outputs": [],
   "source": []
  },
  {
   "cell_type": "code",
   "execution_count": null,
   "metadata": {},
   "outputs": [],
   "source": []
  }
 ],
 "metadata": {
  "kernelspec": {
   "display_name": ".pyenv",
   "language": "python",
   "name": "python3"
  },
  "language_info": {
   "codemirror_mode": {
    "name": "ipython",
    "version": 3
   },
   "file_extension": ".py",
   "mimetype": "text/x-python",
   "name": "python",
   "nbconvert_exporter": "python",
   "pygments_lexer": "ipython3",
   "version": "3.11.5"
  }
 },
 "nbformat": 4,
 "nbformat_minor": 2
}
