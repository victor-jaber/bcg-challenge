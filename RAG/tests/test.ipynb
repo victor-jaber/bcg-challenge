{
 "cells": [
  {
   "cell_type": "markdown",
   "metadata": {},
   "source": [
    "##### The aim of this notebook is to test the project to verify the LLM return message"
   ]
  },
  {
   "cell_type": "markdown",
   "metadata": {},
   "source": [
    "---"
   ]
  },
  {
   "cell_type": "code",
   "execution_count": 1,
   "metadata": {},
   "outputs": [
    {
     "name": "stderr",
     "output_type": "stream",
     "text": [
      "c:\\Users\\Micro\\Downloads\\BCG_X_CHALLENGE\\desenv\\.pyenv\\Lib\\site-packages\\IPython\\core\\magics\\osm.py:417: UserWarning: This is now an optional IPython functionality, setting dhist requires you to install the `pickleshare` library.\n",
      "  self.shell.db['dhist'] = compress_dhist(dhist)[-100:]\n"
     ]
    },
    {
     "name": "stdout",
     "output_type": "stream",
     "text": [
      "c:\\Users\\Micro\\Downloads\\BCG_X_CHALLENGE\\bcg-challenge\\RAG\n"
     ]
    }
   ],
   "source": [
    "%cd ..\n",
    "from configparser import ConfigParser\n",
    "from functions.get_message import process_input_with_retrieval\n",
    "from functions.utils import get_dir_config, log"
   ]
  },
  {
   "cell_type": "code",
   "execution_count": 2,
   "metadata": {},
   "outputs": [
    {
     "name": "stderr",
     "output_type": "stream",
     "text": [
      "2024-10-20 20:45:28,815 - INFO - Configured the log function. Log file in c:/Users/Micro/Downloads/BCG_X_CHALLENGE/bcg-challenge/RAG/log/20241020_204528_log.txt\n"
     ]
    }
   ],
   "source": [
    "# Read the config.ini\n",
    "ini_config = get_dir_config()\n",
    "config = ConfigParser()\n",
    "config.read(ini_config, encoding=\"utf8\")\n",
    "\n",
    "# Object for execution log\n",
    "logger = log(config)"
   ]
  },
  {
   "cell_type": "code",
   "execution_count": 3,
   "metadata": {},
   "outputs": [
    {
     "name": "stderr",
     "output_type": "stream",
     "text": [
      "2024-10-20 20:45:37,306 - INFO - Processing and cleaning data from the user query completed successfully\n",
      "2024-10-20 20:45:39,486 - INFO - Transformed the user query into a float vector\n",
      "2024-10-20 20:45:39,980 - INFO - Retrieved similar documents based on user input\n",
      "2024-10-20 20:45:45,349 - INFO - Final response generated successfully\n"
     ]
    }
   ],
   "source": [
    "# User query\n",
    "user_query = 'Quais fatores devo levar em consideração na hora de desenvolver um plano de adaptação climática para uma cidade de porte médio no Brasil?'\n",
    "\n",
    "# Model return\n",
    "final_response = process_input_with_retrieval(user_query, logger)"
   ]
  },
  {
   "cell_type": "code",
   "execution_count": 4,
   "metadata": {},
   "outputs": [
    {
     "name": "stdout",
     "output_type": "stream",
     "text": [
      "Ao desenvolver um plano de adaptação climática para uma cidade de porte médio no Brasil, diversos fatores devem ser considerados. Aqui estão os principais:\n",
      "\n",
      "1. **Vulnerabilidade Socioeconômica**: É fundamental identificar quais grupos da população são mais vulneráveis às mudanças climáticas, como aqueles que vivem em áreas de risco, com infraestrutura precária e serviços básicos insuficientes. A adaptação deve priorizar a redução dessas vulnerabilidades, promovendo inclusão social e acesso a serviços essenciais, como saúde e educação.\n",
      "\n",
      "2. **Infraestrutura Urbana**: A condição da infraestrutura existente, como drenagem, saneamento e habitação, deve ser avaliada. Cidades com alta impermeabilização do solo e pouca vegetação enfrentam riscos maiores de inundações e eventos climáticos extremos. Melhorias na infraestrutura de drenagem e a criação de áreas verdes são ações recomendadas.\n",
      "\n",
      "3. **Planejamento Urbano**: O planejamento deve considerar o uso do solo e a ocupação do território. É importante evitar a ocupação de áreas de risco e promover um desenvolvimento urbano sustentável que leve em conta as características locais e os riscos climáticos.\n",
      "\n",
      "4. **Engajamento da Comunidade**: A participação da população local no processo de planejamento é crucial. Isso garante que as soluções propostas atendam às necessidades reais da comunidade e aumentem a resiliência social.\n",
      "\n",
      "5. **Dados e Informações Climáticas**: A coleta e análise de dados sobre as condições climáticas locais e suas projeções futuras são essenciais para entender os riscos e planejar ações adequadas.\n",
      "\n",
      "6. **Integração de Políticas Públicas**: O plano de adaptação deve estar alinhado com outras políticas públicas, como as de saúde, educação, habitação e desenvolvimento econômico, para garantir uma abordagem holística.\n",
      "\n",
      "7. **Capacitação e Educação**: Promover a capacitação dos gestores e a educação da população sobre mudanças climáticas e suas consequências é fundamental para a implementação eficaz do plano.\n",
      "\n",
      "Exemplo: A cidade de Curitiba implementou um plano de urbanismo sustentável que inclui áreas verdes e um sistema de drenagem eficiente, reduzindo significativamente os riscos de inundações e melhorando a qualidade de vida dos habitantes. \n",
      "\n",
      "Esses fatores são interdependentes e devem ser abordados de forma integrada para garantir a eficácia do plano de adaptação climática.\n"
     ]
    }
   ],
   "source": [
    "print(final_response)"
   ]
  },
  {
   "cell_type": "markdown",
   "metadata": {},
   "source": [
    "---"
   ]
  },
  {
   "cell_type": "code",
   "execution_count": 5,
   "metadata": {},
   "outputs": [
    {
     "name": "stderr",
     "output_type": "stream",
     "text": [
      "2024-10-20 20:45:53,519 - INFO - Processing and cleaning data from the user query completed successfully\n",
      "2024-10-20 20:45:55,038 - INFO - Transformed the user query into a float vector\n",
      "2024-10-20 20:45:55,488 - INFO - Retrieved similar documents based on user input\n",
      "2024-10-20 20:46:02,577 - INFO - Final response generated successfully\n"
     ]
    }
   ],
   "source": [
    "# User query\n",
    "user_query = 'Como desenvolvo um plano de adaptação climática para a cidade de Campinas?'\n",
    "\n",
    "# Model return\n",
    "final_response = process_input_with_retrieval(user_query, logger)"
   ]
  },
  {
   "cell_type": "code",
   "execution_count": 6,
   "metadata": {},
   "outputs": [
    {
     "name": "stdout",
     "output_type": "stream",
     "text": [
      "Para desenvolver um plano de adaptação climática para a cidade de Campinas, é importante seguir uma abordagem estruturada que priorize ações com base na facilidade de implementação e no impacto esperado. Aqui estão algumas ações práticas que podem ser consideradas:\n",
      "\n",
      "1. **Criação de um Comitê de Adaptação Climática**:\n",
      "   - **Justificativa**: A formação de um comitê pode facilitar a coordenação entre diferentes setores e stakeholders, promovendo uma abordagem integrada.\n",
      "   - **Exemplo**: O Consórcio Intermunicipal Grande ABC já implementou um comitê para enfrentar as mudanças climáticas, facilitando a colaboração entre os municípios da região.\n",
      "\n",
      "2. **Desenvolvimento de um Inventário de Emissões de GEE**:\n",
      "   - **Justificativa**: Um inventário ajuda a identificar as principais fontes de emissões de gases de efeito estufa (GEE) e a traçar estratégias de mitigação.\n",
      "   - **Exemplo**: O Plano de Ação de Enfrentamento das Mudanças Climáticas do Grande ABC incluiu a realização de um inventário para embasar suas ações.\n",
      "\n",
      "3. **Implementação do Programa Cinturão Verde**:\n",
      "   - **Justificativa**: A conservação e recomposição de áreas verdes ajudam a mitigar os efeitos das mudanças climáticas, como o aumento das temperaturas e a gestão das águas pluviais.\n",
      "   - **Exemplo**: O Programa Cinturão Verde Mananciais Metropolitanos em São Paulo promove a conservação de áreas ciliares e a proteção dos recursos hídricos.\n",
      "\n",
      "4. **Promoção de Projetos de Infraestrutura Verde**:\n",
      "   - **Justificativa**: A infraestrutura verde, como parques e jardins verticais, pode reduzir a temperatura urbana e melhorar a qualidade do ar.\n",
      "   - **Exemplo**: Cidades como Curitiba implementaram projetos de infraestrutura verde que não apenas embelezam a cidade, mas também ajudam na gestão das águas pluviais.\n",
      "\n",
      "5. **Educação e Conscientização da População**:\n",
      "   - **Justificativa**: A sensibilização da população sobre as mudanças climáticas e a importância da adaptação pode aumentar o engajamento e a participação em ações comunitárias.\n",
      "   - **Exemplo**: Campinas pode desenvolver campanhas educativas, como as que foram realizadas em várias cidades brasileiras, focando na importância da sustentabilidade e da adaptação climática.\n",
      "\n",
      "6. **Integração de Políticas Públicas e Planejamento Urbano**:\n",
      "   - **Justificativa**: Integrar as políticas de adaptação climática ao planejamento urbano pode garantir que novas construções e infraestruturas considerem a resiliência climática.\n",
      "   - **Exemplo**: O estado de São Paulo, através da Política Estadual de Mudanças Climáticas, já está promovendo a integração de estratégias de adaptação em seus planos diretores.\n",
      "\n",
      "Essas ações devem ser adaptadas ao contexto local e às necessidades específicas de Campinas. A participação da comunidade e dos stakeholders locais é fundamental para o sucesso do plano.\n"
     ]
    }
   ],
   "source": [
    "print(final_response)"
   ]
  },
  {
   "cell_type": "markdown",
   "metadata": {},
   "source": [
    "---"
   ]
  },
  {
   "cell_type": "code",
   "execution_count": 7,
   "metadata": {},
   "outputs": [
    {
     "name": "stderr",
     "output_type": "stream",
     "text": [
      "2024-10-20 20:46:08,119 - INFO - Processing and cleaning data from the user query completed successfully\n",
      "2024-10-20 20:46:09,548 - INFO - Transformed the user query into a float vector\n",
      "2024-10-20 20:46:09,966 - INFO - Retrieved similar documents based on user input\n",
      "2024-10-20 20:46:17,072 - INFO - Final response generated successfully\n"
     ]
    }
   ],
   "source": [
    "# User query\n",
    "user_query = 'Como desenvolvo um plano de adaptação climática para a cidade de Boa Vista (RR)?'\n",
    "\n",
    "# Model return\n",
    "final_response = process_input_with_retrieval(user_query, logger)"
   ]
  },
  {
   "cell_type": "code",
   "execution_count": 8,
   "metadata": {},
   "outputs": [
    {
     "name": "stdout",
     "output_type": "stream",
     "text": [
      "Para desenvolver um plano de adaptação climática para a cidade de Boa Vista, em Roraima, é importante considerar as particularidades locais, como o clima, a vulnerabilidade socioeconômica da população e a infraestrutura existente. Abaixo estão ações práticas, organizadas por ordem de prioridade em termos de facilidade de implementação e impacto:\n",
      "\n",
      "1. **Implantação de Saneamento Básico**:\n",
      "   - **Justificativa**: A melhoria do saneamento básico é fundamental para reduzir a transmissão de doenças e melhorar a qualidade de vida da população, especialmente em áreas vulneráveis. A falta de infraestrutura adequada pode agravar os impactos das mudanças climáticas, como enchentes e doenças relacionadas à água.\n",
      "   - **Exemplo**: Em várias cidades brasileiras, como Recife, foram implementados projetos de saneamento que melhoraram significativamente a saúde pública e reduziram a vulnerabilidade das comunidades.\n",
      "\n",
      "2. **Criação de Parques Lineares e Áreas Verdes**:\n",
      "   - **Justificativa**: A implementação de parques lineares pode ajudar a mitigar os efeitos de enchentes, além de promover a biodiversidade e melhorar a qualidade do ar. Essas áreas verdes também oferecem espaços de lazer e bem-estar para a população.\n",
      "   - **Exemplo**: Cidades como São Paulo têm investido em parques lineares para controlar a drenagem de águas pluviais e melhorar a resiliência urbana.\n",
      "\n",
      "3. **Desenvolvimento de Pesquisa sobre Espécies Agrícolas Resilientes**:\n",
      "   - **Justificativa**: Investir em pesquisa para desenvolver culturas agrícolas que sejam mais resistentes a períodos de seca e a variações climáticas pode garantir a segurança alimentar da população local.\n",
      "   - **Exemplo**: No semiárido brasileiro, projetos de pesquisa têm sido realizados para identificar e cultivar variedades de plantas que suportem melhor as condições climáticas adversas.\n",
      "\n",
      "4. **Recuperação e Proteção de Ecossistemas Naturais**:\n",
      "   - **Justificativa**: Proteger áreas como manguezais e restingas pode ajudar a minimizar os impactos de tempestades e erosão costeira, além de promover a biodiversidade e os serviços ecossistêmicos.\n",
      "   - **Exemplo**: Em regiões costeiras, como no estado da Bahia, programas de recuperação de manguezais têm mostrado resultados positivos na proteção contra a erosão e na melhoria da qualidade ambiental.\n",
      "\n",
      "5. **Desenvolvimento de Rede de Segurança Social**:\n",
      "   - **Justificativa**: Criar uma rede de segurança social pode ajudar a mitigar os impactos socioeconômicos das mudanças climáticas, oferecendo suporte a comunidades vulneráveis em situações de crise.\n",
      "   - **Exemplo**: Cidades que implementaram programas de transferência de renda e assistência social, como o Bolsa Família, têm conseguido reduzir a vulnerabilidade da população em face de desastres naturais.\n",
      "\n",
      "Essas ações devem ser adaptadas à realidade local de Boa Vista, considerando a participação da comunidade e a colaboração entre diferentes setores da administração pública. A implementação de um plano de adaptação climática deve ser um processo contínuo, com monitoramento e ajustes conforme necessário.\n"
     ]
    }
   ],
   "source": [
    "print(final_response)"
   ]
  },
  {
   "cell_type": "markdown",
   "metadata": {},
   "source": [
    "---"
   ]
  },
  {
   "cell_type": "code",
   "execution_count": 9,
   "metadata": {},
   "outputs": [
    {
     "name": "stderr",
     "output_type": "stream",
     "text": [
      "2024-10-20 20:46:22,365 - INFO - Processing and cleaning data from the user query completed successfully\n",
      "2024-10-20 20:46:23,651 - INFO - Transformed the user query into a float vector\n",
      "2024-10-20 20:46:24,087 - INFO - Retrieved similar documents based on user input\n",
      "2024-10-20 20:46:30,802 - INFO - Final response generated successfully\n"
     ]
    }
   ],
   "source": [
    "# User query\n",
    "user_query = 'Qual é a estrategia para reduzir a ocorrência de incêndios no estado de Mato Grosso?'\n",
    "\n",
    "# Model return\n",
    "final_response = process_input_with_retrieval(user_query, logger)"
   ]
  },
  {
   "cell_type": "code",
   "execution_count": 10,
   "metadata": {},
   "outputs": [
    {
     "name": "stdout",
     "output_type": "stream",
     "text": [
      "Para reduzir a ocorrência de incêndios no estado de Mato Grosso, é importante implementar uma série de ações práticas que podem ser priorizadas em termos de facilidade de implementação e impacto. Aqui estão algumas sugestões:\n",
      "\n",
      "1. **Fortalecimento da fiscalização e controle do desmatamento ilegal**:\n",
      "   - **Justificativa**: A maioria dos incêndios em Mato Grosso está relacionada a áreas desmatadas ilegalmente. O controle efetivo do desmatamento pode reduzir significativamente a ocorrência de incêndios.\n",
      "   - **Exemplo**: O Comitê Estratégico de Combate ao Desmatamento Ilegal e Incêndios Florestais (CEDIF-MT) foi criado para coordenar ações de fiscalização e combate ao desmatamento e incêndios, resultando em apreensões de equipamentos e embargos de áreas desmatadas ilegalmente.\n",
      "\n",
      "2. **Promoção de práticas de manejo sustentável**:\n",
      "   - **Justificativa**: Incentivar práticas agrícolas que respeitem o meio ambiente pode reduzir a necessidade de queimadas para limpeza de áreas.\n",
      "   - **Exemplo**: Programas de incentivo ao ecoturismo e à agricultura sustentável podem ser implementados, como já feito em algumas regiões do Brasil, promovendo a conservação e a geração de renda sem a necessidade de queimadas.\n",
      "\n",
      "3. **Educação e conscientização da população**:\n",
      "   - **Justificativa**: Informar a população sobre os riscos e consequências das queimadas pode reduzir a incidência de incêndios acidentais.\n",
      "   - **Exemplo**: Campanhas de conscientização, como as promovidas pelo Ministério Público e ONGs, podem ser eficazes. O projeto \"Olhos da Mata\" é um exemplo de monitoramento e conscientização que pode ser ampliado.\n",
      "\n",
      "4. **Implementação de sistemas de monitoramento e alerta**:\n",
      "   - **Justificativa**: O uso de tecnologia para monitorar áreas suscetíveis a incêndios pode permitir uma resposta rápida e eficaz.\n",
      "   - **Exemplo**: O projeto SatAlertas utiliza georreferenciamento para identificar focos de incêndio em tempo real, permitindo ações preventivas e de combate mais rápidas.\n",
      "\n",
      "5. **Criação de brigadas comunitárias de combate a incêndios**:\n",
      "   - **Justificativa**: Mobilizar a comunidade local para atuar na prevenção e combate a incêndios pode ser uma forma eficaz de reduzir a ocorrência de incêndios.\n",
      "   - **Exemplo**: Em várias regiões do Brasil, foram formadas brigadas comunitárias que, além de combater incêndios, promovem a educação ambiental e a preservação do patrimônio natural.\n",
      "\n",
      "Essas ações, quando implementadas de forma integrada e coordenada, podem contribuir significativamente para a redução da ocorrência de incêndios em Mato Grosso, protegendo o meio ambiente e promovendo o desenvolvimento sustentável da região.\n"
     ]
    }
   ],
   "source": [
    "print(final_response)"
   ]
  },
  {
   "cell_type": "markdown",
   "metadata": {},
   "source": [
    "---"
   ]
  },
  {
   "cell_type": "code",
   "execution_count": 11,
   "metadata": {},
   "outputs": [
    {
     "name": "stderr",
     "output_type": "stream",
     "text": [
      "2024-10-20 20:46:47,298 - INFO - Processing and cleaning data from the user query completed successfully\n",
      "2024-10-20 20:46:47,301 - INFO - User query is too short, so the RAG will not be applied\n",
      "2024-10-20 20:46:51,001 - INFO - Final response generated successfully\n"
     ]
    }
   ],
   "source": [
    "# User query\n",
    "user_query = 'O que é ESG?'\n",
    "\n",
    "# Model return\n",
    "final_response = process_input_with_retrieval(user_query, logger)"
   ]
  },
  {
   "cell_type": "code",
   "execution_count": 12,
   "metadata": {},
   "outputs": [
    {
     "name": "stdout",
     "output_type": "stream",
     "text": [
      "ESG é uma sigla que se refere a \"Environmental, Social, and Governance\" (Ambiental, Social e Governança). Esse conceito é utilizado para avaliar a sustentabilidade e o impacto ético de um investimento em uma empresa ou em um projeto. Cada uma das três letras representa um aspecto diferente:\n",
      "\n",
      "1. **Ambiental (E)**: Refere-se a como uma empresa ou projeto impacta o meio ambiente. Isso inclui questões como emissões de carbono, uso de recursos naturais, gestão de resíduos e práticas de sustentabilidade.\n",
      "\n",
      "2. **Social (S)**: Diz respeito à forma como uma empresa ou projeto lida com questões sociais, como direitos humanos, diversidade, condições de trabalho e impacto nas comunidades locais.\n",
      "\n",
      "3. **Governança (G)**: Envolve a forma como uma empresa é administrada e governada. Isso inclui práticas de transparência, ética nos negócios, composição do conselho e direitos dos acionistas.\n",
      "\n",
      "As empresas e projetos que adotam práticas ESG são frequentemente considerados mais sustentáveis e responsáveis, o que pode atrair investidores que buscam não apenas retorno financeiro, mas também um impacto positivo na sociedade e no meio ambiente.\n",
      "\n",
      "Se você estiver interessado em como integrar princípios ESG no planejamento climático de um município, posso fornecer ações práticas e exemplos.\n"
     ]
    }
   ],
   "source": [
    "print(final_response)"
   ]
  },
  {
   "cell_type": "code",
   "execution_count": null,
   "metadata": {},
   "outputs": [],
   "source": []
  },
  {
   "cell_type": "code",
   "execution_count": null,
   "metadata": {},
   "outputs": [],
   "source": []
  },
  {
   "cell_type": "code",
   "execution_count": null,
   "metadata": {},
   "outputs": [],
   "source": []
  }
 ],
 "metadata": {
  "kernelspec": {
   "display_name": ".pyenv",
   "language": "python",
   "name": "python3"
  },
  "language_info": {
   "codemirror_mode": {
    "name": "ipython",
    "version": 3
   },
   "file_extension": ".py",
   "mimetype": "text/x-python",
   "name": "python",
   "nbconvert_exporter": "python",
   "pygments_lexer": "ipython3",
   "version": "3.11.5"
  }
 },
 "nbformat": 4,
 "nbformat_minor": 2
}
